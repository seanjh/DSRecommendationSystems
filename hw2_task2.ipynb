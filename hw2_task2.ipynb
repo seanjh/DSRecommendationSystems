{
 "cells": [
  {
   "cell_type": "code",
   "execution_count": 1,
   "metadata": {
    "collapsed": false
   },
   "outputs": [],
   "source": [
    "import findspark\n",
    "findspark.init()\n",
    "\n",
    "from pyspark.mllib.recommendation import ALS, Rating\n",
    "from pyspark import SparkContext, SQLContext\n",
    "sc = SparkContext(\"local\", \"test\")\n",
    "sqlContext = SQLContext(sc)"
   ]
  },
  {
   "cell_type": "code",
   "execution_count": 2,
   "metadata": {
    "collapsed": true
   },
   "outputs": [],
   "source": [
    "TRAIN_FILE = \"./data//ratings-train.dat/\"\n",
    "VALIDATION_FILE = \"./data//ratings-validation.dat/\"\n",
    "TEST_FILE = \"./data/ratings-test.dat/\""
   ]
  },
  {
   "cell_type": "code",
   "execution_count": 3,
   "metadata": {
    "collapsed": true
   },
   "outputs": [],
   "source": [
    "def prepare_data(data):\n",
    "    return (\n",
    "        data\n",
    "        .map(lambda l: l.split('::'))\n",
    "        .map(lambda l: Rating(int(l[0]), int(l[1]), float(l[2])))\n",
    "    )  "
   ]
  },
  {
   "cell_type": "code",
   "execution_count": 50,
   "metadata": {
    "collapsed": false
   },
   "outputs": [],
   "source": [
    "# Load and parse the data\n",
    "ratings_train_text = sc.textFile(TRAIN_FILE)\n",
    "ratings_train = prepare_data(ratings_train_text)\n"
   ]
  },
  {
   "cell_type": "code",
   "execution_count": 5,
   "metadata": {
    "collapsed": true
   },
   "outputs": [],
   "source": [
    "ratings_validation_text = sc.textFile(VALIDATION_FILE)\n",
    "ratings_validation = prepare_data(ratings_validation_text)"
   ]
  },
  {
   "cell_type": "code",
   "execution_count": 51,
   "metadata": {
    "collapsed": false
   },
   "outputs": [],
   "source": [
    "ratings_test_text = sc.textFile(TEST_FILE)\n",
    "ratings_test = prepare_data(ratings_validation_text)\n"
   ]
  },
  {
   "cell_type": "markdown",
   "metadata": {},
   "source": [
    "#### Calculate the general mean u for all ratings"
   ]
  },
  {
   "cell_type": "code",
   "execution_count": 9,
   "metadata": {
    "collapsed": false
   },
   "outputs": [],
   "source": [
    "global_mean = ratings_train.map(lambda r: (r[2])).mean()"
   ]
  },
  {
   "cell_type": "code",
   "execution_count": 10,
   "metadata": {
    "collapsed": false
   },
   "outputs": [
    {
     "data": {
      "text/plain": [
       "3.5436346666666556"
      ]
     },
     "execution_count": 10,
     "metadata": {},
     "output_type": "execute_result"
    }
   ],
   "source": [
    "global_mean"
   ]
  },
  {
   "cell_type": "markdown",
   "metadata": {
    "collapsed": false
   },
   "source": [
    "##### calculate item-specific bias, according to the paper we referenced, for each item i, its bias is equal to the summation of difference between all ratings of to the same item and global mean and then the result is divided by the sum of a regulation parameter and the quantity of the ratings.\n"
   ]
  },
  {
   "cell_type": "code",
   "execution_count": 11,
   "metadata": {
    "collapsed": false
   },
   "outputs": [],
   "source": [
    "df = sqlContext.createDataFrame(ratings_train, ['userId', 'movieId', 'ratings'])"
   ]
  },
  {
   "cell_type": "code",
   "execution_count": 12,
   "metadata": {
    "collapsed": false
   },
   "outputs": [],
   "source": [
    "df_orderByMovie = df.orderBy(df.movieId)"
   ]
  },
  {
   "cell_type": "code",
   "execution_count": 14,
   "metadata": {
    "collapsed": false
   },
   "outputs": [],
   "source": [
    "movie_count = df_orderByMovie.groupBy(df_orderByMovie.movieId).count()"
   ]
  },
  {
   "cell_type": "code",
   "execution_count": 15,
   "metadata": {
    "collapsed": false
   },
   "outputs": [],
   "source": [
    "sum_byMovie = df_orderByMovie.groupBy(['movieId']).sum()"
   ]
  },
  {
   "cell_type": "code",
   "execution_count": 16,
   "metadata": {
    "collapsed": false
   },
   "outputs": [],
   "source": [
    "drop_column1 = sum_byMovie.drop(sum_byMovie[1])"
   ]
  },
  {
   "cell_type": "code",
   "execution_count": 17,
   "metadata": {
    "collapsed": true
   },
   "outputs": [],
   "source": [
    "final_drop = drop_column1.drop(drop_column1[1])"
   ]
  },
  {
   "cell_type": "code",
   "execution_count": 18,
   "metadata": {
    "collapsed": false
   },
   "outputs": [],
   "source": [
    "movie_sorted = movie_count.join(final_drop, \"movieId\")"
   ]
  },
  {
   "cell_type": "code",
   "execution_count": 19,
   "metadata": {
    "collapsed": true
   },
   "outputs": [],
   "source": [
    "new_movie_sorted = movie_sorted.orderBy(movie_sorted.movieId)"
   ]
  },
  {
   "cell_type": "code",
   "execution_count": 20,
   "metadata": {
    "collapsed": false
   },
   "outputs": [],
   "source": [
    "item_bias = new_movie_sorted.map(lambda r: [r[0], (r[2] - r[1]*global_mean)/(25+r[1])])"
   ]
  },
  {
   "cell_type": "code",
   "execution_count": 21,
   "metadata": {
    "collapsed": true
   },
   "outputs": [],
   "source": [
    "new_item_bias = sqlContext.createDataFrame(item_bias, ['movieId', 'item_bias'])"
   ]
  },
  {
   "cell_type": "code",
   "execution_count": null,
   "metadata": {
    "collapsed": true
   },
   "outputs": [],
   "source": []
  },
  {
   "cell_type": "markdown",
   "metadata": {},
   "source": [
    "#### Caculate the user-specific bias"
   ]
  },
  {
   "cell_type": "code",
   "execution_count": 52,
   "metadata": {
    "collapsed": true
   },
   "outputs": [],
   "source": [
    "df_orderByUser = df.orderBy(df.userId)"
   ]
  },
  {
   "cell_type": "code",
   "execution_count": 23,
   "metadata": {
    "collapsed": true
   },
   "outputs": [],
   "source": [
    "contain_itemBias = df_orderByUser.join(new_item_bias, \"movieId\")"
   ]
  },
  {
   "cell_type": "code",
   "execution_count": 24,
   "metadata": {
    "collapsed": true
   },
   "outputs": [],
   "source": [
    "sorted_byUser = contain_itemBias.orderBy(['userId'])"
   ]
  },
  {
   "cell_type": "code",
   "execution_count": 25,
   "metadata": {
    "collapsed": true
   },
   "outputs": [],
   "source": [
    "subtraction = sorted_byUser.map(lambda r: [r[1], r[2] - global_mean - r[3]])"
   ]
  },
  {
   "cell_type": "code",
   "execution_count": 26,
   "metadata": {
    "collapsed": true
   },
   "outputs": [],
   "source": [
    "user_bias_part1 = sqlContext.createDataFrame(subtraction, ['userId', 'subtraction'])"
   ]
  },
  {
   "cell_type": "code",
   "execution_count": 27,
   "metadata": {
    "collapsed": true
   },
   "outputs": [],
   "source": [
    "sum_byUser = user_bias_part1.groupBy(['userId']).sum()"
   ]
  },
  {
   "cell_type": "code",
   "execution_count": 28,
   "metadata": {
    "collapsed": true
   },
   "outputs": [],
   "source": [
    "sum_UserCollect = user_bias_part1.groupBy(['userId']).count()"
   ]
  },
  {
   "cell_type": "code",
   "execution_count": 29,
   "metadata": {
    "collapsed": false
   },
   "outputs": [],
   "source": [
    "ordered_sum_UserCollect = sum_UserCollect.orderBy(sum_UserCollect.userId)"
   ]
  },
  {
   "cell_type": "code",
   "execution_count": 30,
   "metadata": {
    "collapsed": true
   },
   "outputs": [],
   "source": [
    "drop_column2 = sum_byUser.drop(sum_byUser[1])"
   ]
  },
  {
   "cell_type": "code",
   "execution_count": 31,
   "metadata": {
    "collapsed": false
   },
   "outputs": [],
   "source": [
    "final_drop2 = drop_column2.orderBy(drop_column2.userId)"
   ]
  },
  {
   "cell_type": "code",
   "execution_count": 32,
   "metadata": {
    "collapsed": true
   },
   "outputs": [],
   "source": [
    "user_bias_table = final_drop2.join(ordered_sum_UserCollect, 'userId')"
   ]
  },
  {
   "cell_type": "code",
   "execution_count": 33,
   "metadata": {
    "collapsed": true
   },
   "outputs": [],
   "source": [
    "ordered_userBiaTable = user_bias_table.orderBy(user_bias_table.userId)"
   ]
  },
  {
   "cell_type": "code",
   "execution_count": 34,
   "metadata": {
    "collapsed": true
   },
   "outputs": [],
   "source": [
    "user_bias = ordered_userBiaTable.map(lambda r: [r[0], r[1]/(10+r[2])])"
   ]
  },
  {
   "cell_type": "code",
   "execution_count": 35,
   "metadata": {
    "collapsed": true
   },
   "outputs": [],
   "source": [
    "user_specific_bias = sqlContext.createDataFrame(user_bias, ['userId', 'user_bias'])"
   ]
  },
  {
   "cell_type": "code",
   "execution_count": 36,
   "metadata": {
    "collapsed": true
   },
   "outputs": [],
   "source": [
    "merge1 = df_orderByUser.join(user_specific_bias, 'userId')"
   ]
  },
  {
   "cell_type": "code",
   "execution_count": 37,
   "metadata": {
    "collapsed": true
   },
   "outputs": [],
   "source": [
    "merge2 = merge1.join(new_item_bias, 'movieId')"
   ]
  },
  {
   "cell_type": "code",
   "execution_count": 38,
   "metadata": {
    "collapsed": true
   },
   "outputs": [],
   "source": [
    "new_ratings_train = merge2.map(lambda r: [r[0], r[1], r[2] - r[3] - r[4]])"
   ]
  },
  {
   "cell_type": "code",
   "execution_count": 39,
   "metadata": {
    "collapsed": true
   },
   "outputs": [],
   "source": [
    "temp = sqlContext.createDataFrame(new_ratings_train, ['movieId', 'userId', 'new_ratings'])"
   ]
  },
  {
   "cell_type": "code",
   "execution_count": 40,
   "metadata": {
    "collapsed": true
   },
   "outputs": [],
   "source": [
    "final_new_ratings_train = temp.orderBy(temp.userId)"
   ]
  },
  {
   "cell_type": "code",
   "execution_count": 140,
   "metadata": {
    "collapsed": false
   },
   "outputs": [
    {
     "data": {
      "text/plain": [
       "[Row(movieId=231, userId=1, new_ratings=4.500706981668868),\n",
       " Row(movieId=466, userId=1, new_ratings=4.486594220539655),\n",
       " Row(movieId=480, userId=1, new_ratings=3.6659681159289264),\n",
       " Row(movieId=292, userId=1, new_ratings=3.9400823655233252),\n",
       " Row(movieId=316, userId=1, new_ratings=4.070220460584749),\n",
       " Row(movieId=520, userId=1, new_ratings=4.450044040828783),\n",
       " Row(movieId=122, userId=1, new_ratings=4.51965651167074),\n",
       " Row(movieId=329, userId=1, new_ratings=4.043341642853775),\n",
       " Row(movieId=539, userId=1, new_ratings=3.781670437982751),\n",
       " Row(movieId=355, userId=1, new_ratings=4.792371118737552)]"
      ]
     },
     "execution_count": 140,
     "metadata": {},
     "output_type": "execute_result"
    }
   ],
   "source": [
    "final_new_ratings_train.take(10)"
   ]
  },
  {
   "cell_type": "code",
   "execution_count": 42,
   "metadata": {
    "collapsed": false
   },
   "outputs": [],
   "source": [
    "#now, we perform the same procedure as task1\n",
    "#first, we sort the data by timestamp. \n",
    "new_ratings_byTime = final_new_ratings_train.join(df, ['userId', 'movieId'])"
   ]
  },
  {
   "cell_type": "code",
   "execution_count": 43,
   "metadata": {
    "collapsed": false
   },
   "outputs": [
    {
     "data": {
      "text/plain": [
       "[Row(userId=2, movieId=1073, new_ratings=3.1127612615922002, ratings=3.0),\n",
       " Row(userId=5, movieId=562, new_ratings=4.726646236437846, ratings=5.0),\n",
       " Row(userId=7, movieId=1288, new_ratings=3.3876945595817927, ratings=4.0),\n",
       " Row(userId=13, movieId=266, new_ratings=3.0448259327021043, ratings=3.0),\n",
       " Row(userId=13, movieId=1466, new_ratings=3.792032982260145, ratings=4.0),\n",
       " Row(userId=13, movieId=2866, new_ratings=2.9583415274420997, ratings=3.0),\n",
       " Row(userId=17, movieId=1918, new_ratings=4.170568373948343, ratings=4.0),\n",
       " Row(userId=23, movieId=296, new_ratings=3.1428828214821367, ratings=4.0),\n",
       " Row(userId=26, movieId=185, new_ratings=3.9912608329233716, ratings=4.0),\n",
       " Row(userId=30, movieId=637, new_ratings=3.8491857046397424, ratings=4.0),\n",
       " Row(userId=34, movieId=1089, new_ratings=2.9642579014484842, ratings=3.0),\n",
       " Row(userId=34, movieId=2089, new_ratings=3.817721423587683, ratings=3.0),\n",
       " Row(userId=34, movieId=2289, new_ratings=2.09083864188565, ratings=2.0),\n",
       " Row(userId=34, movieId=2889, new_ratings=2.773606266323415, ratings=2.0),\n",
       " Row(userId=34, movieId=3489, new_ratings=5.033721141973383, ratings=4.0),\n",
       " Row(userId=36, movieId=15, new_ratings=4.778165755192467, ratings=4.0),\n",
       " Row(userId=36, movieId=1015, new_ratings=4.2341070986474625, ratings=4.0),\n",
       " Row(userId=36, movieId=1615, new_ratings=3.042075568234389, ratings=3.0),\n",
       " Row(userId=36, movieId=6615, new_ratings=3.931801936708086, ratings=3.0),\n",
       " Row(userId=43, movieId=356, new_ratings=1.7984717242487762, ratings=3.0)]"
      ]
     },
     "execution_count": 43,
     "metadata": {},
     "output_type": "execute_result"
    }
   ],
   "source": [
    "#example of dataset\n",
    "new_ratings_byTime.take(20)"
   ]
  },
  {
   "cell_type": "code",
   "execution_count": 44,
   "metadata": {
    "collapsed": true
   },
   "outputs": [],
   "source": [
    "new_ratings_byTime = new_ratings_byTime.drop(new_ratings_byTime[3])"
   ]
  },
  {
   "cell_type": "code",
   "execution_count": 46,
   "metadata": {
    "collapsed": true
   },
   "outputs": [],
   "source": [
    "def prepare_validation(validation):\n",
    "    return validation.map(lambda p: (p[0], p[1]))"
   ]
  },
  {
   "cell_type": "code",
   "execution_count": 47,
   "metadata": {
    "collapsed": true
   },
   "outputs": [],
   "source": [
    "# Evaluate the model on training data\n",
    "def train_evaluate_als(train, test, rank, iterations_num, lambda_val):\n",
    "    model = ALS.train(train, rank, iterations_num, lambda_val)\n",
    "    predictions = model.predictAll(prepare_validation(test)).map(lambda r: ((r[0], r[1]), r[2]))\n",
    "    ratesAndPreds = test.map(lambda r: ((r[0], r[1]), r[2])).join(predictions)\n",
    "    MSE = ratesAndPreds.map(lambda r: (r[1][0] - r[1][1])**2).mean()\n",
    "    return MSE"
   ]
  },
  {
   "cell_type": "code",
   "execution_count": 48,
   "metadata": {
    "collapsed": false
   },
   "outputs": [],
   "source": [
    "mse = train_evaluate_als(new_ratings_byTime, ratings_test, 20, 10, 0.1)"
   ]
  },
  {
   "cell_type": "code",
   "execution_count": 49,
   "metadata": {
    "collapsed": false
   },
   "outputs": [
    {
     "data": {
      "text/plain": [
       "0.8462550647600592"
      ]
     },
     "execution_count": 49,
     "metadata": {},
     "output_type": "execute_result"
    }
   ],
   "source": [
    "mse"
   ]
  },
  {
   "cell_type": "code",
   "execution_count": null,
   "metadata": {
    "collapsed": true
   },
   "outputs": [],
   "source": []
  }
 ],
 "metadata": {
  "kernelspec": {
   "display_name": "Python 2",
   "language": "python",
   "name": "python2"
  },
  "language_info": {
   "codemirror_mode": {
    "name": "ipython",
    "version": 2
   },
   "file_extension": ".py",
   "mimetype": "text/x-python",
   "name": "python",
   "nbconvert_exporter": "python",
   "pygments_lexer": "ipython2",
   "version": "2.7.11"
  }
 },
 "nbformat": 4,
 "nbformat_minor": 0
}
