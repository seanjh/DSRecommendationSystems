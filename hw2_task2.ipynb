{
 "cells": [
  {
   "cell_type": "code",
   "execution_count": 1,
   "metadata": {
    "collapsed": false
   },
   "outputs": [],
   "source": [
    "import findspark\n",
    "findspark.init()\n",
    "\n",
    "from pyspark.mllib.recommendation import ALS, Rating\n",
    "from pyspark import SparkContext, SQLContext\n",
    "sc = SparkContext(\"local\", \"test\")\n",
    "sqlContext = SQLContext(sc)"
   ]
  },
  {
   "cell_type": "code",
   "execution_count": 2,
   "metadata": {
    "collapsed": true
   },
   "outputs": [],
   "source": [
    "TRAIN_FILE = \"./data//ratings-train.dat\"\n",
    "VALIDATION_FILE = \"./data//ratings-validation.dat\"\n",
    "TEST_FILE = \"./data/ratings-test.dat\""
   ]
  },
  {
   "cell_type": "code",
   "execution_count": 3,
   "metadata": {
    "collapsed": true
   },
   "outputs": [],
   "source": [
    "def prepare_data(data):\n",
    "    return (\n",
    "        data\n",
    "        .map(lambda l: l.split(','))\n",
    "        .map(lambda l: Rating(int(l[0]), int(l[1]), float(l[2])))\n",
    "    )  "
   ]
  },
  {
   "cell_type": "code",
   "execution_count": 4,
   "metadata": {
    "collapsed": true
   },
   "outputs": [],
   "source": [
    "# Load and parse the data\n",
    "ratings_train_text = sc.textFile(TRAIN_FILE)\n",
    "ratings_train = prepare_data(ratings_train_text)"
   ]
  },
  {
   "cell_type": "code",
   "execution_count": 5,
   "metadata": {
    "collapsed": true
   },
   "outputs": [],
   "source": [
    "ratings_validation_text = sc.textFile(VALIDATION_FILE)\n",
    "ratings_validation = prepare_data(ratings_validation_text)"
   ]
  },
  {
   "cell_type": "code",
   "execution_count": 6,
   "metadata": {
    "collapsed": true
   },
   "outputs": [],
   "source": [
    "ratings_test_text = sc.textFile(TEST_FILE)\n",
    "ratings_test = prepare_data(ratings_validation_text)"
   ]
  },
  {
   "cell_type": "markdown",
   "metadata": {},
   "source": [
    "#### Calculate the general mean u for all ratings"
   ]
  },
  {
   "cell_type": "code",
   "execution_count": 7,
   "metadata": {
    "collapsed": true
   },
   "outputs": [],
   "source": [
    "global_mean = ratings_train.map(lambda r: (r[2])).mean()"
   ]
  },
  {
   "cell_type": "code",
   "execution_count": 8,
   "metadata": {
    "collapsed": false
   },
   "outputs": [
    {
     "data": {
      "text/plain": [
       "3.54363466666664"
      ]
     },
     "execution_count": 8,
     "metadata": {},
     "output_type": "execute_result"
    }
   ],
   "source": [
    "global_mean"
   ]
  },
  {
   "cell_type": "markdown",
   "metadata": {
    "collapsed": false
   },
   "source": [
    "##### calculate item-specific bias, according to the paper we referenced, for each item i, its bias is equal to the summation of difference between all ratings of to the same item and global mean and then the result is divided by the sum of a regulation parameter and the quantity of the ratings.\n"
   ]
  },
  {
   "cell_type": "code",
   "execution_count": 11,
   "metadata": {
    "collapsed": false
   },
   "outputs": [],
   "source": [
    "df = sqlContext.createDataFrame(ratings_train, ['userId', 'movieId', 'ratings'])"
   ]
  },
  {
   "cell_type": "code",
   "execution_count": 141,
   "metadata": {
    "collapsed": false
   },
   "outputs": [
    {
     "data": {
      "text/plain": [
       "[Row(userId=36955, movieId=21, ratings=3.0),\n",
       " Row(userId=36955, movieId=47, ratings=5.0),\n",
       " Row(userId=36955, movieId=1079, ratings=3.0),\n",
       " Row(userId=35139, movieId=1, ratings=4.0),\n",
       " Row(userId=35139, movieId=10, ratings=4.0),\n",
       " Row(userId=35139, movieId=18, ratings=4.0),\n",
       " Row(userId=35139, movieId=19, ratings=4.0),\n",
       " Row(userId=35139, movieId=21, ratings=5.0),\n",
       " Row(userId=35139, movieId=31, ratings=5.0),\n",
       " Row(userId=35139, movieId=32, ratings=5.0),\n",
       " Row(userId=35139, movieId=39, ratings=5.0),\n",
       " Row(userId=35139, movieId=45, ratings=4.0),\n",
       " Row(userId=35139, movieId=47, ratings=5.0),\n",
       " Row(userId=35139, movieId=50, ratings=5.0),\n",
       " Row(userId=35139, movieId=52, ratings=4.0),\n",
       " Row(userId=35139, movieId=55, ratings=4.0),\n",
       " Row(userId=35139, movieId=58, ratings=5.0),\n",
       " Row(userId=35241, movieId=32, ratings=5.0),\n",
       " Row(userId=35435, movieId=10, ratings=3.0),\n",
       " Row(userId=35435, movieId=11, ratings=4.0)]"
      ]
     },
     "execution_count": 141,
     "metadata": {},
     "output_type": "execute_result"
    }
   ],
   "source": [
    "df.take(20)"
   ]
  },
  {
   "cell_type": "code",
   "execution_count": 12,
   "metadata": {
    "collapsed": false
   },
   "outputs": [],
   "source": [
    "df_orderByMovie = df.orderBy(df.movieId)"
   ]
  },
  {
   "cell_type": "code",
   "execution_count": 13,
   "metadata": {
    "collapsed": false
   },
   "outputs": [
    {
     "data": {
      "text/plain": [
       "[Row(userId=35139, movieId=1, ratings=4.0),\n",
       " Row(userId=36008, movieId=1, ratings=5.0),\n",
       " Row(userId=36202, movieId=1, ratings=4.0),\n",
       " Row(userId=36304, movieId=1, ratings=5.0),\n",
       " Row(userId=36398, movieId=1, ratings=5.0)]"
      ]
     },
     "execution_count": 13,
     "metadata": {},
     "output_type": "execute_result"
    }
   ],
   "source": [
    "df_orderByMovie.take(5)"
   ]
  },
  {
   "cell_type": "code",
   "execution_count": 29,
   "metadata": {
    "collapsed": false
   },
   "outputs": [],
   "source": [
    "movie_count = df_orderByMovie.groupBy(df_orderByMovie.movieId).count()"
   ]
  },
  {
   "cell_type": "code",
   "execution_count": 60,
   "metadata": {
    "collapsed": false
   },
   "outputs": [
    {
     "data": {
      "text/plain": [
       "7185"
      ]
     },
     "execution_count": 60,
     "metadata": {},
     "output_type": "execute_result"
    }
   ],
   "source": [
    "movie_count.count()"
   ]
  },
  {
   "cell_type": "code",
   "execution_count": 32,
   "metadata": {
    "collapsed": false
   },
   "outputs": [],
   "source": [
    "sum_byMovie = df_orderByMovie.groupBy(['movieId']).sum()"
   ]
  },
  {
   "cell_type": "code",
   "execution_count": 45,
   "metadata": {
    "collapsed": false
   },
   "outputs": [],
   "source": [
    "drop_column1 = sum_byMovie.drop(sum_byMovie[1])"
   ]
  },
  {
   "cell_type": "code",
   "execution_count": 46,
   "metadata": {
    "collapsed": true
   },
   "outputs": [],
   "source": [
    "final_drop = drop_column1.drop(drop_column1[1])"
   ]
  },
  {
   "cell_type": "code",
   "execution_count": 47,
   "metadata": {
    "collapsed": false
   },
   "outputs": [
    {
     "data": {
      "text/plain": [
       "Row(movieId=1, sum(ratings)=71453.5)"
      ]
     },
     "execution_count": 47,
     "metadata": {},
     "output_type": "execute_result"
    }
   ],
   "source": [
    "final_drop.first()"
   ]
  },
  {
   "cell_type": "code",
   "execution_count": 66,
   "metadata": {
    "collapsed": false
   },
   "outputs": [],
   "source": [
    "movie_sorted = movie_count.join(final_drop, \"movieId\")"
   ]
  },
  {
   "cell_type": "code",
   "execution_count": 67,
   "metadata": {
    "collapsed": false
   },
   "outputs": [
    {
     "data": {
      "text/plain": [
       "[Row(movieId=31, count=3762, sum(ratings)=12587.0),\n",
       " Row(movieId=231, count=11945, sum(ratings)=34902.5),\n",
       " Row(movieId=431, count=3371, sum(ratings)=12301.0),\n",
       " Row(movieId=631, count=1100, sum(ratings)=3103.0),\n",
       " Row(movieId=831, count=130, sum(ratings)=464.0)]"
      ]
     },
     "execution_count": 67,
     "metadata": {},
     "output_type": "execute_result"
    }
   ],
   "source": [
    "movie_sorted.take(5)"
   ]
  },
  {
   "cell_type": "code",
   "execution_count": 68,
   "metadata": {
    "collapsed": true
   },
   "outputs": [],
   "source": [
    "new_movie_sorted = movie_sorted.orderBy(movie_sorted.movieId)"
   ]
  },
  {
   "cell_type": "code",
   "execution_count": 69,
   "metadata": {
    "collapsed": false
   },
   "outputs": [
    {
     "data": {
      "text/plain": [
       "[Row(movieId=1, count=17753, sum(ratings)=71453.5),\n",
       " Row(movieId=2, count=7961, sum(ratings)=26776.0),\n",
       " Row(movieId=3, count=6093, sum(ratings)=19760.5),\n",
       " Row(movieId=4, count=1626, sum(ratings)=4711.0),\n",
       " Row(movieId=5, count=5841, sum(ratings)=18490.5)]"
      ]
     },
     "execution_count": 69,
     "metadata": {},
     "output_type": "execute_result"
    }
   ],
   "source": [
    "new_movie_sorted.take(5)"
   ]
  },
  {
   "cell_type": "code",
   "execution_count": 99,
   "metadata": {
    "collapsed": false
   },
   "outputs": [],
   "source": [
    "item_bias = new_movie_sorted.map(lambda r: [r[0], (r[2] - r[1]*global_mean)/(25+r[1])])"
   ]
  },
  {
   "cell_type": "code",
   "execution_count": 100,
   "metadata": {
    "collapsed": true
   },
   "outputs": [],
   "source": [
    "new_item_bias = sqlContext.createDataFrame(item_bias, ['movieId', 'item_bias'])"
   ]
  },
  {
   "cell_type": "code",
   "execution_count": 101,
   "metadata": {
    "collapsed": false
   },
   "outputs": [
    {
     "data": {
      "text/plain": [
       "[Row(movieId=1, item_bias=0.4805576421794993),\n",
       " Row(movieId=2, item_bias=-0.17967387695130513),\n",
       " Row(movieId=3, item_bias=-0.2992589120627393),\n",
       " Row(movieId=4, item_bias=-0.63655358449422),\n",
       " Row(movieId=5, item_bias=-0.3763842632117019),\n",
       " Row(movieId=6, item_bias=0.24531800591436403),\n",
       " Row(movieId=7, item_bias=-0.09761621267645276),\n",
       " Row(movieId=8, item_bias=-0.34720415541919714),\n",
       " Row(movieId=9, item_bias=-0.49023928514053583),\n",
       " Row(movieId=10, item_bias=-0.08865719185621093)]"
      ]
     },
     "execution_count": 101,
     "metadata": {},
     "output_type": "execute_result"
    }
   ],
   "source": [
    "new_item_bias.take(10)"
   ]
  },
  {
   "cell_type": "code",
   "execution_count": 87,
   "metadata": {
    "collapsed": false
   },
   "outputs": [
    {
     "data": {
      "text/plain": [
       "7185"
      ]
     },
     "execution_count": 87,
     "metadata": {},
     "output_type": "execute_result"
    }
   ],
   "source": [
    "item_bias.count()"
   ]
  },
  {
   "cell_type": "code",
   "execution_count": 75,
   "metadata": {
    "collapsed": true
   },
   "outputs": [],
   "source": [
    "#calculate for user-specific bias\n",
    "df_orderByUser = df.orderBy(df.userId)"
   ]
  },
  {
   "cell_type": "code",
   "execution_count": 102,
   "metadata": {
    "collapsed": true
   },
   "outputs": [],
   "source": [
    "contain_itemBias = df_orderByUser.join(new_item_bias, \"movieId\")"
   ]
  },
  {
   "cell_type": "code",
   "execution_count": 103,
   "metadata": {
    "collapsed": false
   },
   "outputs": [
    {
     "data": {
      "text/plain": [
       "[Row(movieId=31, userId=13, ratings=2.0, item_bias=-0.19650214312117759),\n",
       " Row(movieId=31, userId=19, ratings=4.0, item_bias=-0.19650214312117759),\n",
       " Row(movieId=31, userId=89, ratings=4.0, item_bias=-0.19650214312117759),\n",
       " Row(movieId=31, userId=116, ratings=4.0, item_bias=-0.19650214312117759),\n",
       " Row(movieId=31, userId=182, ratings=3.0, item_bias=-0.19650214312117759),\n",
       " Row(movieId=31, userId=193, ratings=3.0, item_bias=-0.19650214312117759),\n",
       " Row(movieId=31, userId=203, ratings=4.0, item_bias=-0.19650214312117759),\n",
       " Row(movieId=31, userId=208, ratings=5.0, item_bias=-0.19650214312117759),\n",
       " Row(movieId=31, userId=223, ratings=5.0, item_bias=-0.19650214312117759),\n",
       " Row(movieId=31, userId=349, ratings=3.0, item_bias=-0.19650214312117759)]"
      ]
     },
     "execution_count": 103,
     "metadata": {},
     "output_type": "execute_result"
    }
   ],
   "source": [
    "contain_itemBias.take(10)"
   ]
  },
  {
   "cell_type": "code",
   "execution_count": 106,
   "metadata": {
    "collapsed": true
   },
   "outputs": [],
   "source": [
    "sorted_byUser = contain_itemBias.orderBy(['userId'])"
   ]
  },
  {
   "cell_type": "code",
   "execution_count": 107,
   "metadata": {
    "collapsed": false
   },
   "outputs": [
    {
     "data": {
      "text/plain": [
       "[Row(movieId=231, userId=1, ratings=5.0, item_bias=-0.620402346978531),\n",
       " Row(movieId=466, userId=1, ratings=5.0, item_bias=-0.6062895858493179),\n",
       " Row(movieId=480, userId=1, ratings=5.0, item_bias=0.21433651876141116),\n",
       " Row(movieId=292, userId=1, ratings=5.0, item_bias=-0.05977773083298789),\n",
       " Row(movieId=316, userId=1, ratings=5.0, item_bias=-0.18991582589441186),\n",
       " Row(movieId=520, userId=1, ratings=5.0, item_bias=-0.5697394061384459),\n",
       " Row(movieId=122, userId=1, ratings=5.0, item_bias=-0.6393518769804023),\n",
       " Row(movieId=329, userId=1, ratings=5.0, item_bias=-0.16303700816343833),\n",
       " Row(movieId=539, userId=1, ratings=5.0, item_bias=0.09863419670758647),\n",
       " Row(movieId=355, userId=1, ratings=5.0, item_bias=-0.9120664840472149)]"
      ]
     },
     "execution_count": 107,
     "metadata": {},
     "output_type": "execute_result"
    }
   ],
   "source": [
    "sorted_byUser.take(10)"
   ]
  },
  {
   "cell_type": "code",
   "execution_count": 108,
   "metadata": {
    "collapsed": true
   },
   "outputs": [],
   "source": [
    "subtraction = sorted_byUser.map(lambda r: [r[1], r[2] - global_mean - r[3]])"
   ]
  },
  {
   "cell_type": "code",
   "execution_count": 109,
   "metadata": {
    "collapsed": false,
    "scrolled": true
   },
   "outputs": [
    {
     "data": {
      "text/plain": [
       "[[1, 2.076767680311891],\n",
       " [1, 2.0626549191826777],\n",
       " [1, 1.2420288145719487],\n",
       " [1, 1.5161430641663478],\n",
       " [1, 1.6462811592277717],\n",
       " [1, 2.0261047394718057],\n",
       " [1, 2.0957172103137625],\n",
       " [1, 1.6194023414967982],\n",
       " [1, 1.3577311366257734],\n",
       " [1, 2.368431817380575]]"
      ]
     },
     "execution_count": 109,
     "metadata": {},
     "output_type": "execute_result"
    }
   ],
   "source": [
    "subtraction.take(10)"
   ]
  },
  {
   "cell_type": "code",
   "execution_count": 110,
   "metadata": {
    "collapsed": true
   },
   "outputs": [],
   "source": [
    "user_bias_part1 = sqlContext.createDataFrame(subtraction, ['userId', 'subtraction'])"
   ]
  },
  {
   "cell_type": "code",
   "execution_count": 111,
   "metadata": {
    "collapsed": true
   },
   "outputs": [],
   "source": [
    "sum_byUser = user_bias_part1.groupBy(['userId']).sum()"
   ]
  },
  {
   "cell_type": "code",
   "execution_count": 112,
   "metadata": {
    "collapsed": false
   },
   "outputs": [
    {
     "data": {
      "text/plain": [
       "[Row(userId=231, sum(userId)=5544, sum(subtraction)=4.943156344255966),\n",
       " Row(userId=631, sum(userId)=20192, sum(subtraction)=7.908224109144056),\n",
       " Row(userId=831, sum(userId)=83100, sum(subtraction)=64.85731076719358),\n",
       " Row(userId=1031, sum(userId)=21651, sum(subtraction)=18.112618328424194),\n",
       " Row(userId=1431, sum(userId)=231822, sum(subtraction)=-11.208059875726343),\n",
       " Row(userId=1631, sum(userId)=32620, sum(subtraction)=16.282610671923322),\n",
       " Row(userId=1831, sum(userId)=64085, sum(subtraction)=18.16192419338471),\n",
       " Row(userId=2031, sum(userId)=50775, sum(subtraction)=-2.2135119819671107),\n",
       " Row(userId=2231, sum(userId)=73623, sum(subtraction)=2.0335448169743335),\n",
       " Row(userId=2431, sum(userId)=82654, sum(subtraction)=-3.7197108062734827)]"
      ]
     },
     "execution_count": 112,
     "metadata": {},
     "output_type": "execute_result"
    }
   ],
   "source": [
    "sum_byUser.take(10)"
   ]
  },
  {
   "cell_type": "code",
   "execution_count": 117,
   "metadata": {
    "collapsed": true
   },
   "outputs": [],
   "source": [
    "sum_UserCollect = user_bias_part1.groupBy(['userId']).count()"
   ]
  },
  {
   "cell_type": "code",
   "execution_count": 119,
   "metadata": {
    "collapsed": false
   },
   "outputs": [],
   "source": [
    "ordered_sum_UserCollect = sum_UserCollect.orderBy(sum_UserCollect.userId)"
   ]
  },
  {
   "cell_type": "code",
   "execution_count": null,
   "metadata": {
    "collapsed": true
   },
   "outputs": [],
   "source": []
  },
  {
   "cell_type": "code",
   "execution_count": 113,
   "metadata": {
    "collapsed": true
   },
   "outputs": [],
   "source": [
    "drop_column2 = sum_byUser.drop(sum_byUser[1])"
   ]
  },
  {
   "cell_type": "code",
   "execution_count": 115,
   "metadata": {
    "collapsed": false
   },
   "outputs": [],
   "source": [
    "final_drop2 = drop_column2.orderBy(drop_column2.userId)"
   ]
  },
  {
   "cell_type": "code",
   "execution_count": 116,
   "metadata": {
    "collapsed": false
   },
   "outputs": [
    {
     "data": {
      "text/plain": [
       "[Row(userId=1, sum(subtraction)=35.830251689909204),\n",
       " Row(userId=2, sum(subtraction)=-8.371114754373947),\n",
       " Row(userId=4, sum(subtraction)=21.89887419075155),\n",
       " Row(userId=5, sum(subtraction)=-1.7013075020805646),\n",
       " Row(userId=6, sum(subtraction)=11.452380076284523),\n",
       " Row(userId=7, sum(subtraction)=2.175563299262799),\n",
       " Row(userId=10, sum(subtraction)=5.182024569308008),\n",
       " Row(userId=11, sum(subtraction)=38.34927440015343),\n",
       " Row(userId=12, sum(subtraction)=4.231105047706301),\n",
       " Row(userId=13, sum(subtraction)=-6.294511936141549)]"
      ]
     },
     "execution_count": 116,
     "metadata": {},
     "output_type": "execute_result"
    }
   ],
   "source": [
    "final_drop2.take(10)"
   ]
  },
  {
   "cell_type": "code",
   "execution_count": 120,
   "metadata": {
    "collapsed": true
   },
   "outputs": [],
   "source": [
    "user_bias_table = final_drop2.join(ordered_sum_UserCollect, 'userId')"
   ]
  },
  {
   "cell_type": "code",
   "execution_count": 121,
   "metadata": {
    "collapsed": false
   },
   "outputs": [
    {
     "data": {
      "text/plain": [
       "[Row(userId=231, sum(subtraction)=4.943156344255966, count=24),\n",
       " Row(userId=631, sum(subtraction)=7.908224109144056, count=32),\n",
       " Row(userId=831, sum(subtraction)=64.85731076719358, count=100),\n",
       " Row(userId=1031, sum(subtraction)=18.112618328424194, count=21),\n",
       " Row(userId=1431, sum(subtraction)=-11.208059875726343, count=162)]"
      ]
     },
     "execution_count": 121,
     "metadata": {},
     "output_type": "execute_result"
    }
   ],
   "source": [
    "user_bias_table.take(5)"
   ]
  },
  {
   "cell_type": "code",
   "execution_count": 122,
   "metadata": {
    "collapsed": true
   },
   "outputs": [],
   "source": [
    "ordered_userBiaTable = user_bias_table.orderBy(user_bias_table.userId)"
   ]
  },
  {
   "cell_type": "code",
   "execution_count": 123,
   "metadata": {
    "collapsed": true
   },
   "outputs": [],
   "source": [
    "user_bias = ordered_userBiaTable.map(lambda r: [r[0], r[1]/(10+r[2])])"
   ]
  },
  {
   "cell_type": "code",
   "execution_count": 124,
   "metadata": {
    "collapsed": false
   },
   "outputs": [
    {
     "data": {
      "text/plain": [
       "[[1, 1.1196953653096626],\n",
       " [2, -0.2790371584791316],\n",
       " [4, 0.4562265456406573],\n",
       " [5, -0.017539252598768706],\n",
       " [6, 0.220238078390087]]"
      ]
     },
     "execution_count": 124,
     "metadata": {},
     "output_type": "execute_result"
    }
   ],
   "source": [
    "user_bias.take(5)"
   ]
  },
  {
   "cell_type": "code",
   "execution_count": 131,
   "metadata": {
    "collapsed": true
   },
   "outputs": [],
   "source": [
    "user_specific_bias = sqlContext.createDataFrame(user_bias, ['userId', 'user_bias'])"
   ]
  },
  {
   "cell_type": "code",
   "execution_count": 132,
   "metadata": {
    "collapsed": false
   },
   "outputs": [
    {
     "data": {
      "text/plain": [
       "[Row(userId=1, user_bias=1.1196953653096626),\n",
       " Row(userId=2, user_bias=-0.2790371584791316),\n",
       " Row(userId=4, user_bias=0.4562265456406573),\n",
       " Row(userId=5, user_bias=-0.017539252598768706),\n",
       " Row(userId=6, user_bias=0.220238078390087),\n",
       " Row(userId=7, user_bias=0.01828204453162016),\n",
       " Row(userId=10, user_bias=0.038962590746676753),\n",
       " Row(userId=11, user_bias=0.4916573641045312),\n",
       " Row(userId=12, user_bias=0.06611101637041095),\n",
       " Row(userId=13, user_bias=-0.04034943548808685)]"
      ]
     },
     "execution_count": 132,
     "metadata": {},
     "output_type": "execute_result"
    }
   ],
   "source": [
    "user_specific_bias.take(10)"
   ]
  },
  {
   "cell_type": "code",
   "execution_count": 127,
   "metadata": {
    "collapsed": false
   },
   "outputs": [
    {
     "data": {
      "text/plain": [
       "[Row(userId=1, movieId=588, ratings=5.0),\n",
       " Row(userId=1, movieId=231, ratings=5.0),\n",
       " Row(userId=1, movieId=316, ratings=5.0),\n",
       " Row(userId=1, movieId=329, ratings=5.0),\n",
       " Row(userId=1, movieId=292, ratings=5.0),\n",
       " Row(userId=1, movieId=185, ratings=5.0),\n",
       " Row(userId=1, movieId=356, ratings=5.0),\n",
       " Row(userId=1, movieId=480, ratings=5.0),\n",
       " Row(userId=1, movieId=364, ratings=5.0),\n",
       " Row(userId=1, movieId=589, ratings=5.0)]"
      ]
     },
     "execution_count": 127,
     "metadata": {},
     "output_type": "execute_result"
    }
   ],
   "source": [
    "df_orderByUser.take(10)"
   ]
  },
  {
   "cell_type": "code",
   "execution_count": 133,
   "metadata": {
    "collapsed": true
   },
   "outputs": [],
   "source": [
    "merge1 = df_orderByUser.join(user_specific_bias, 'userId')"
   ]
  },
  {
   "cell_type": "code",
   "execution_count": 134,
   "metadata": {
    "collapsed": false
   },
   "outputs": [
    {
     "data": {
      "text/plain": [
       "[Row(userId=231, movieId=135, ratings=3.0, user_bias=0.14538695130164606),\n",
       " Row(userId=231, movieId=1721, ratings=2.0, user_bias=0.14538695130164606),\n",
       " Row(userId=231, movieId=1682, ratings=4.0, user_bias=0.14538695130164606),\n",
       " Row(userId=231, movieId=3552, ratings=5.0, user_bias=0.14538695130164606),\n",
       " Row(userId=231, movieId=4132, ratings=1.0, user_bias=0.14538695130164606)]"
      ]
     },
     "execution_count": 134,
     "metadata": {},
     "output_type": "execute_result"
    }
   ],
   "source": [
    "merge1.take(5)"
   ]
  },
  {
   "cell_type": "code",
   "execution_count": 135,
   "metadata": {
    "collapsed": true
   },
   "outputs": [],
   "source": [
    "merge2 = merge1.join(new_item_bias, 'movieId')"
   ]
  },
  {
   "cell_type": "code",
   "execution_count": 136,
   "metadata": {
    "collapsed": false
   },
   "outputs": [
    {
     "data": {
      "text/plain": [
       "[Row(movieId=31, userId=3631, ratings=3.0, user_bias=0.1723984230273186, item_bias=-0.19650214312117759),\n",
       " Row(movieId=31, userId=4031, ratings=4.0, user_bias=0.3052134317006871, item_bias=-0.19650214312117759),\n",
       " Row(movieId=31, userId=5431, ratings=3.0, user_bias=0.15800853430422251, item_bias=-0.19650214312117759),\n",
       " Row(movieId=31, userId=7831, ratings=3.0, user_bias=-0.36994032888141914, item_bias=-0.19650214312117759),\n",
       " Row(movieId=31, userId=8031, ratings=3.0, user_bias=-0.38041007979314, item_bias=-0.19650214312117759)]"
      ]
     },
     "execution_count": 136,
     "metadata": {},
     "output_type": "execute_result"
    }
   ],
   "source": [
    "merge2.take(5)"
   ]
  },
  {
   "cell_type": "code",
   "execution_count": 137,
   "metadata": {
    "collapsed": true
   },
   "outputs": [],
   "source": [
    "new_ratings_train = merge2.map(lambda r: [r[0], r[1], r[2] - r[3] - r[4]])"
   ]
  },
  {
   "cell_type": "code",
   "execution_count": 138,
   "metadata": {
    "collapsed": true
   },
   "outputs": [],
   "source": [
    "temp = sqlContext.createDataFrame(new_ratings_train, ['movieId', 'userId', 'new_ratings'])"
   ]
  },
  {
   "cell_type": "code",
   "execution_count": 139,
   "metadata": {
    "collapsed": true
   },
   "outputs": [],
   "source": [
    "final_new_ratings_train = temp.orderBy(temp.userId)"
   ]
  },
  {
   "cell_type": "code",
   "execution_count": 140,
   "metadata": {
    "collapsed": false
   },
   "outputs": [
    {
     "data": {
      "text/plain": [
       "[Row(movieId=231, userId=1, new_ratings=4.500706981668868),\n",
       " Row(movieId=466, userId=1, new_ratings=4.486594220539655),\n",
       " Row(movieId=480, userId=1, new_ratings=3.6659681159289264),\n",
       " Row(movieId=292, userId=1, new_ratings=3.9400823655233252),\n",
       " Row(movieId=316, userId=1, new_ratings=4.070220460584749),\n",
       " Row(movieId=520, userId=1, new_ratings=4.450044040828783),\n",
       " Row(movieId=122, userId=1, new_ratings=4.51965651167074),\n",
       " Row(movieId=329, userId=1, new_ratings=4.043341642853775),\n",
       " Row(movieId=539, userId=1, new_ratings=3.781670437982751),\n",
       " Row(movieId=355, userId=1, new_ratings=4.792371118737552)]"
      ]
     },
     "execution_count": 140,
     "metadata": {},
     "output_type": "execute_result"
    }
   ],
   "source": [
    "final_new_ratings_train.take(10)"
   ]
  },
  {
   "cell_type": "code",
   "execution_count": 147,
   "metadata": {
    "collapsed": false
   },
   "outputs": [],
   "source": [
    "#now, we perform the same procedure as task1\n",
    "#first, we sort the data by timestamp. \n",
    "new_ratings_byTime = df.join(final_new_ratings_train, ['userId', 'movieId'])"
   ]
  },
  {
   "cell_type": "code",
   "execution_count": 148,
   "metadata": {
    "collapsed": false
   },
   "outputs": [
    {
     "data": {
      "text/plain": [
       "[Row(userId=2, movieId=1073, ratings=3.0, new_ratings=3.112761261592185),\n",
       " Row(userId=5, movieId=562, ratings=5.0, new_ratings=4.726646236437831),\n",
       " Row(userId=7, movieId=1288, ratings=4.0, new_ratings=3.387694559581777),\n",
       " Row(userId=13, movieId=266, ratings=3.0, new_ratings=3.0448259327020883),\n",
       " Row(userId=13, movieId=1466, ratings=4.0, new_ratings=3.7920329822601286),\n",
       " Row(userId=13, movieId=2866, ratings=3.0, new_ratings=2.958341527442084),\n",
       " Row(userId=17, movieId=1918, ratings=4.0, new_ratings=4.170568373948327),\n",
       " Row(userId=23, movieId=296, ratings=4.0, new_ratings=3.1428828214821207),\n",
       " Row(userId=26, movieId=185, ratings=4.0, new_ratings=3.991260832923356),\n",
       " Row(userId=30, movieId=637, ratings=4.0, new_ratings=3.8491857046397264),\n",
       " Row(userId=34, movieId=1089, ratings=3.0, new_ratings=2.964257901448468),\n",
       " Row(userId=34, movieId=2089, ratings=3.0, new_ratings=3.8177214235876673),\n",
       " Row(userId=34, movieId=2289, ratings=2.0, new_ratings=2.0908386418856337),\n",
       " Row(userId=34, movieId=2889, ratings=2.0, new_ratings=2.7736062663233993),\n",
       " Row(userId=34, movieId=3489, ratings=4.0, new_ratings=5.033721141973367),\n",
       " Row(userId=36, movieId=15, ratings=4.0, new_ratings=4.778165755192452),\n",
       " Row(userId=36, movieId=1015, ratings=4.0, new_ratings=4.234107098647447),\n",
       " Row(userId=36, movieId=1615, ratings=3.0, new_ratings=3.042075568234373),\n",
       " Row(userId=36, movieId=6615, ratings=3.0, new_ratings=3.931801936708071),\n",
       " Row(userId=43, movieId=356, ratings=3.0, new_ratings=1.7984717242487602)]"
      ]
     },
     "execution_count": 148,
     "metadata": {},
     "output_type": "execute_result"
    }
   ],
   "source": [
    "new_ratings_byTime.take(20)"
   ]
  },
  {
   "cell_type": "code",
   "execution_count": null,
   "metadata": {
    "collapsed": true
   },
   "outputs": [],
   "source": []
  }
 ],
 "metadata": {
  "kernelspec": {
   "display_name": "Python 2",
   "language": "python",
   "name": "python2"
  },
  "language_info": {
   "codemirror_mode": {
    "name": "ipython",
    "version": 2
   },
   "file_extension": ".py",
   "mimetype": "text/x-python",
   "name": "python",
   "nbconvert_exporter": "python",
   "pygments_lexer": "ipython2",
   "version": "2.7.11"
  }
 },
 "nbformat": 4,
 "nbformat_minor": 0
}
