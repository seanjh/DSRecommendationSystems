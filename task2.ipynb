{
 "cells": [
  {
   "cell_type": "code",
   "execution_count": 1,
   "metadata": {
    "collapsed": true
   },
   "outputs": [],
   "source": [
    "import findspark\n",
    "findspark.init()\n",
    "\n",
    "from pyspark.mllib.recommendation import ALS, Rating\n",
    "from pyspark import SparkContext, SQLContext\n",
    "sc = SparkContext(\"local\", \"test\")\n",
    "sqlContext = SQLContext(sc)"
   ]
  },
  {
   "cell_type": "code",
   "execution_count": 7,
   "metadata": {
    "collapsed": true
   },
   "outputs": [],
   "source": [
    "TRAIN_FILE = \"./data/ratings-train.dat/\"\n",
    "VALIDATION_FILE = \"./data/ratings-validation.dat/\"\n",
    "TEST_FILE = \"./data/ratings-test.dat/\""
   ]
  },
  {
   "cell_type": "code",
   "execution_count": 12,
   "metadata": {
    "collapsed": true
   },
   "outputs": [],
   "source": [
    "def prepare_data(data):\n",
    "    return (\n",
    "        data\n",
    "        .map(lambda l: l.split('::'))\n",
    "        .map(lambda l: Rating(int(l[0]), int(l[1]), float(l[2])))\n",
    "    )  "
   ]
  },
  {
   "cell_type": "code",
   "execution_count": 13,
   "metadata": {
    "collapsed": false
   },
   "outputs": [
    {
     "data": {
      "text/plain": [
       "[Rating(user=36955, product=21, rating=3.0),\n",
       " Rating(user=36955, product=47, rating=5.0),\n",
       " Rating(user=36955, product=1079, rating=3.0),\n",
       " Rating(user=35139, product=1, rating=4.0),\n",
       " Rating(user=35139, product=10, rating=4.0),\n",
       " Rating(user=35139, product=18, rating=4.0),\n",
       " Rating(user=35139, product=19, rating=4.0),\n",
       " Rating(user=35139, product=21, rating=5.0),\n",
       " Rating(user=35139, product=31, rating=5.0),\n",
       " Rating(user=35139, product=32, rating=5.0)]"
      ]
     },
     "execution_count": 13,
     "metadata": {},
     "output_type": "execute_result"
    }
   ],
   "source": [
    "# Load and parse the data\n",
    "ratings_train_text = sc.textFile(TRAIN_FILE)\n",
    "ratings_train = prepare_data(ratings_train_text)\n",
    "ratings_train.take(10)"
   ]
  },
  {
   "cell_type": "code",
   "execution_count": 15,
   "metadata": {
    "collapsed": false
   },
   "outputs": [
    {
     "data": {
      "text/plain": [
       "[Rating(user=64661, product=1100, rating=3.0),\n",
       " Rating(user=64661, product=1147, rating=4.0),\n",
       " Rating(user=64661, product=1005, rating=1.0),\n",
       " Rating(user=64661, product=999, rating=3.5),\n",
       " Rating(user=64661, product=886, rating=2.0),\n",
       " Rating(user=50311, product=1889, rating=5.0),\n",
       " Rating(user=64661, product=818, rating=3.0),\n",
       " Rating(user=64661, product=694, rating=3.0),\n",
       " Rating(user=64661, product=612, rating=1.5),\n",
       " Rating(user=64661, product=688, rating=1.0)]"
      ]
     },
     "execution_count": 15,
     "metadata": {},
     "output_type": "execute_result"
    }
   ],
   "source": [
    "ratings_validation_text = sc.textFile(VALIDATION_FILE)\n",
    "ratings_validation = prepare_data(ratings_validation_text)\n",
    "ratings_validation.take(10)"
   ]
  },
  {
   "cell_type": "code",
   "execution_count": 16,
   "metadata": {
    "collapsed": true
   },
   "outputs": [],
   "source": [
    "ratings_test_text = sc.textFile(TEST_FILE)\n",
    "ratings_test = prepare_data(ratings_validation_text)\n"
   ]
  },
  {
   "cell_type": "markdown",
   "metadata": {},
   "source": [
    "#### Calculate the general mean u for all ratings"
   ]
  },
  {
   "cell_type": "code",
   "execution_count": 17,
   "metadata": {
    "collapsed": true
   },
   "outputs": [],
   "source": [
    "global_mean = ratings_train.map(lambda r: (r[2])).mean()"
   ]
  },
  {
   "cell_type": "code",
   "execution_count": 18,
   "metadata": {
    "collapsed": false
   },
   "outputs": [
    {
     "data": {
      "text/plain": [
       "3.5436346666666556"
      ]
     },
     "execution_count": 18,
     "metadata": {},
     "output_type": "execute_result"
    }
   ],
   "source": [
    "global_mean"
   ]
  },
  {
   "cell_type": "markdown",
   "metadata": {},
   "source": [
    "#### calculate item-specific bias, according to the paper we referenced, for each item i, its bias is equal to the summation of difference between all ratings of to the same item and global mean and then the result is divided by the sum of a regulation parameter and the quantity of the ratings"
   ]
  },
  {
   "cell_type": "code",
   "execution_count": 19,
   "metadata": {
    "collapsed": true
   },
   "outputs": [],
   "source": [
    "#convert training data to dataframe with attribute\n",
    "df = sqlContext.createDataFrame(ratings_train, ['userId', 'movieId', 'ratings'])"
   ]
  },
  {
   "cell_type": "code",
   "execution_count": 20,
   "metadata": {
    "collapsed": true
   },
   "outputs": [],
   "source": [
    "#sort the data by movie\n",
    "df_orderByMovie = df.orderBy(df.movieId)"
   ]
  },
  {
   "cell_type": "code",
   "execution_count": 21,
   "metadata": {
    "collapsed": true
   },
   "outputs": [],
   "source": [
    "#group the movie and count each movie\n",
    "movie_count = df_orderByMovie.groupBy(df_orderByMovie.movieId).count()"
   ]
  },
  {
   "cell_type": "code",
   "execution_count": 22,
   "metadata": {
    "collapsed": true
   },
   "outputs": [],
   "source": [
    "#calculate the sum of the ratings of each movie\n",
    "sum_byMovie = df_orderByMovie.groupBy(['movieId']).sum()"
   ]
  },
  {
   "cell_type": "code",
   "execution_count": 23,
   "metadata": {
    "collapsed": true
   },
   "outputs": [],
   "source": [
    "#drop some unrelated column\n",
    "drop_column1 = sum_byMovie.drop(sum_byMovie[1])\n",
    "final_drop = drop_column1.drop(drop_column1[1])"
   ]
  },
  {
   "cell_type": "code",
   "execution_count": 24,
   "metadata": {
    "collapsed": true
   },
   "outputs": [],
   "source": [
    "#join the sum of count and sum of rating for each movie\n",
    "movie_sorted = movie_count.join(final_drop, \"movieId\")"
   ]
  },
  {
   "cell_type": "code",
   "execution_count": 25,
   "metadata": {
    "collapsed": true
   },
   "outputs": [],
   "source": [
    "#sorted the dataset by each movie\n",
    "new_movie_sorted = movie_sorted.orderBy(movie_sorted.movieId)"
   ]
  },
  {
   "cell_type": "code",
   "execution_count": 26,
   "metadata": {
    "collapsed": true
   },
   "outputs": [],
   "source": [
    "#calculate item specific bias\n",
    "item_bias = new_movie_sorted.map(lambda r: [r[0], (r[2] - r[1]*global_mean)/(25+r[1])])"
   ]
  },
  {
   "cell_type": "code",
   "execution_count": 27,
   "metadata": {
    "collapsed": true
   },
   "outputs": [],
   "source": [
    "new_item_bias = sqlContext.createDataFrame(item_bias, ['movieId', 'item_bias'])"
   ]
  },
  {
   "cell_type": "code",
   "execution_count": null,
   "metadata": {
    "collapsed": true
   },
   "outputs": [],
   "source": []
  },
  {
   "cell_type": "markdown",
   "metadata": {},
   "source": [
    "#### Caculate the user-specific bias"
   ]
  },
  {
   "cell_type": "code",
   "execution_count": 28,
   "metadata": {
    "collapsed": true
   },
   "outputs": [],
   "source": [
    "#order the training set by user\n",
    "df_orderByUser = df.orderBy(df.userId)"
   ]
  },
  {
   "cell_type": "code",
   "execution_count": 29,
   "metadata": {
    "collapsed": true
   },
   "outputs": [],
   "source": [
    "#join the item bias dataset to with the same movieId\n",
    "contain_itemBias = df_orderByUser.join(new_item_bias, \"movieId\")"
   ]
  },
  {
   "cell_type": "code",
   "execution_count": 30,
   "metadata": {
    "collapsed": true
   },
   "outputs": [],
   "source": [
    "#sorted the dataset by user\n",
    "sorted_byUser = contain_itemBias.orderBy(['userId'])"
   ]
  },
  {
   "cell_type": "code",
   "execution_count": 31,
   "metadata": {
    "collapsed": true
   },
   "outputs": [],
   "source": [
    "#calculate the numerical part of item specific bais\n",
    "subtraction = sorted_byUser.map(lambda r: [r[1], r[2] - global_mean - r[3]])"
   ]
  },
  {
   "cell_type": "code",
   "execution_count": 32,
   "metadata": {
    "collapsed": true
   },
   "outputs": [],
   "source": [
    "user_bias_part1 = sqlContext.createDataFrame(subtraction, ['userId', 'subtraction'])"
   ]
  },
  {
   "cell_type": "code",
   "execution_count": 33,
   "metadata": {
    "collapsed": true
   },
   "outputs": [],
   "source": [
    "sum_byUser = user_bias_part1.groupBy(['userId']).sum()"
   ]
  },
  {
   "cell_type": "code",
   "execution_count": 34,
   "metadata": {
    "collapsed": true
   },
   "outputs": [],
   "source": [
    "#count the user \n",
    "sum_UserCollect = user_bias_part1.groupBy(['userId']).count()"
   ]
  },
  {
   "cell_type": "code",
   "execution_count": 35,
   "metadata": {
    "collapsed": true
   },
   "outputs": [],
   "source": [
    "#order the data set by user\n",
    "ordered_sum_UserCollect = sum_UserCollect.orderBy(sum_UserCollect.userId)"
   ]
  },
  {
   "cell_type": "code",
   "execution_count": 36,
   "metadata": {
    "collapsed": true
   },
   "outputs": [],
   "source": [
    "drop_column2 = sum_byUser.drop(sum_byUser[1])"
   ]
  },
  {
   "cell_type": "code",
   "execution_count": 37,
   "metadata": {
    "collapsed": true
   },
   "outputs": [],
   "source": [
    "final_drop2 = drop_column2.orderBy(drop_column2.userId)"
   ]
  },
  {
   "cell_type": "code",
   "execution_count": 38,
   "metadata": {
    "collapsed": true
   },
   "outputs": [],
   "source": [
    "user_bias_table = final_drop2.join(ordered_sum_UserCollect, 'userId')"
   ]
  },
  {
   "cell_type": "code",
   "execution_count": 39,
   "metadata": {
    "collapsed": true
   },
   "outputs": [],
   "source": [
    "ordered_userBiaTable = user_bias_table.orderBy(user_bias_table.userId)"
   ]
  },
  {
   "cell_type": "code",
   "execution_count": 40,
   "metadata": {
    "collapsed": true
   },
   "outputs": [],
   "source": [
    "user_bias = ordered_userBiaTable.map(lambda r: [r[0], r[1]/(10+r[2])])"
   ]
  },
  {
   "cell_type": "code",
   "execution_count": 41,
   "metadata": {
    "collapsed": true
   },
   "outputs": [],
   "source": [
    "user_specific_bias = sqlContext.createDataFrame(user_bias, ['userId', 'user_bias'])"
   ]
  },
  {
   "cell_type": "code",
   "execution_count": 42,
   "metadata": {
    "collapsed": true
   },
   "outputs": [],
   "source": [
    "merge1 = df_orderByUser.join(user_specific_bias, 'userId')"
   ]
  },
  {
   "cell_type": "code",
   "execution_count": 43,
   "metadata": {
    "collapsed": true
   },
   "outputs": [],
   "source": [
    "merge2 = merge1.join(new_item_bias, 'movieId')"
   ]
  },
  {
   "cell_type": "code",
   "execution_count": 44,
   "metadata": {
    "collapsed": true
   },
   "outputs": [],
   "source": [
    "new_ratings_train = merge2.map(lambda r: [r[0], r[1], r[2] - r[3] - r[4]])"
   ]
  },
  {
   "cell_type": "code",
   "execution_count": 45,
   "metadata": {
    "collapsed": true
   },
   "outputs": [],
   "source": [
    "temp = sqlContext.createDataFrame(new_ratings_train, ['movieId', 'userId', 'new_ratings'])"
   ]
  },
  {
   "cell_type": "code",
   "execution_count": 46,
   "metadata": {
    "collapsed": true
   },
   "outputs": [],
   "source": [
    "final_new_ratings_train = temp.orderBy(temp.userId)"
   ]
  },
  {
   "cell_type": "code",
   "execution_count": 47,
   "metadata": {
    "collapsed": false
   },
   "outputs": [
    {
     "data": {
      "text/plain": [
       "[Row(movieId=231, userId=1, new_ratings=4.500706981668884),\n",
       " Row(movieId=466, userId=1, new_ratings=4.48659422053967),\n",
       " Row(movieId=480, userId=1, new_ratings=3.6659681159289423),\n",
       " Row(movieId=292, userId=1, new_ratings=3.940082365523341),\n",
       " Row(movieId=316, userId=1, new_ratings=4.070220460584765),\n",
       " Row(movieId=520, userId=1, new_ratings=4.450044040828799),\n",
       " Row(movieId=122, userId=1, new_ratings=4.519656511670755),\n",
       " Row(movieId=329, userId=1, new_ratings=4.043341642853791),\n",
       " Row(movieId=539, userId=1, new_ratings=3.781670437982766),\n",
       " Row(movieId=355, userId=1, new_ratings=4.7923711187375675)]"
      ]
     },
     "execution_count": 47,
     "metadata": {},
     "output_type": "execute_result"
    }
   ],
   "source": [
    "final_new_ratings_train.take(10)"
   ]
  },
  {
   "cell_type": "code",
   "execution_count": 48,
   "metadata": {
    "collapsed": true
   },
   "outputs": [],
   "source": [
    "#now, we perform the same procedure as task1\n",
    "#first, we sort the data by timestamp. \n",
    "new_ratings_byTime = final_new_ratings_train.join(df, ['userId', 'movieId'])"
   ]
  },
  {
   "cell_type": "code",
   "execution_count": null,
   "metadata": {
    "collapsed": true
   },
   "outputs": [],
   "source": [
    "#example of dataset\n",
    "new_ratings_byTime.take(20)"
   ]
  },
  {
   "cell_type": "code",
   "execution_count": 49,
   "metadata": {
    "collapsed": true
   },
   "outputs": [],
   "source": [
    "new_ratings_byTime = new_ratings_byTime.drop(new_ratings_byTime[3])"
   ]
  },
  {
   "cell_type": "code",
   "execution_count": 50,
   "metadata": {
    "collapsed": true
   },
   "outputs": [],
   "source": [
    "def prepare_validation(validation):\n",
    "    return validation.map(lambda p: (p[0], p[1]))"
   ]
  },
  {
   "cell_type": "code",
   "execution_count": 51,
   "metadata": {
    "collapsed": true
   },
   "outputs": [],
   "source": [
    "import math"
   ]
  },
  {
   "cell_type": "code",
   "execution_count": 53,
   "metadata": {
    "collapsed": true
   },
   "outputs": [],
   "source": [
    "# Evaluate the model on training data\n",
    "\n",
    "def train_evaluate_als(train, validation, rank, iterations_num, lambda_val):\n",
    "    model = ALS.train(train, rank, iterations_num, lambda_val)\n",
    "    predictions = model.predictAll(prepare_validation(validation)).map(lambda r: ((r[0], r[1]), r[2]))\n",
    "    ratesAndPreds = validation.map(lambda r: ((r[0], r[1]), r[2])).join(predictions)\n",
    "    MSE = ratesAndPreds.map(lambda r: (r[1][0] - r[1][1])**2).mean()\n",
    "    RMSE = math.sqrt(MSE)\n",
    "    return MSE, RMSE"
   ]
  },
  {
   "cell_type": "code",
   "execution_count": 54,
   "metadata": {
    "collapsed": true
   },
   "outputs": [],
   "source": [
    "ranks = [10, 20, 30, 40, 50]\n",
    "lambda_values = [0.01,0.1,1.0,10.0]\n",
    "ITERATIONS = 10"
   ]
  },
  {
   "cell_type": "code",
   "execution_count": 55,
   "metadata": {
    "collapsed": true
   },
   "outputs": [],
   "source": [
    "def report_mse_results(rank, lambda_value, mse, rmse):\n",
    "    print(\"Rank=%d, Lambda=%0.2f, MSE=%s, RMSE=%s\" % (rank, lambda_value, mse, rmse))"
   ]
  },
  {
   "cell_type": "code",
   "execution_count": 56,
   "metadata": {
    "collapsed": true
   },
   "outputs": [],
   "source": [
    "def evaluate_parameters(train, validation, ranks, lambda_values):\n",
    "    for r in ranks:\n",
    "        for l in lambda_values:\n",
    "            mse, rmse = train_evaluate_als(new_ratings_byTime.rdd, validation, r, ITERATIONS, l)\n",
    "            report_mse_results(r, l, mse, rmse)"
   ]
  },
  {
   "cell_type": "code",
   "execution_count": null,
   "metadata": {
    "collapsed": true
   },
   "outputs": [],
   "source": [
    "evaluate_parameters(new_ratings_byTime, ratings_validation, ranks, lambda_values)"
   ]
  }
 ],
 "metadata": {
  "kernelspec": {
   "display_name": "Python 2",
   "language": "python",
   "name": "python2"
  },
  "language_info": {
   "codemirror_mode": {
    "name": "ipython",
    "version": 2
   },
   "file_extension": ".py",
   "mimetype": "text/x-python",
   "name": "python",
   "nbconvert_exporter": "python",
   "pygments_lexer": "ipython2",
   "version": "2.7.11"
  }
 },
 "nbformat": 4,
 "nbformat_minor": 0
}
